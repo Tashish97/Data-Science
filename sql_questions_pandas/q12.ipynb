{
 "cells": [
  {
   "cell_type": "markdown",
   "metadata": {},
   "source": [
    "### Hire people within budget  \n",
    "A certain company has to hire candidates within a budget of $50000, they prefer to hire seniors and only if the budget allows thay hire juniors.  \n",
    "Say  \n",
    "For the 1st test case  \n",
    "id 4 and 6 are considered who are seniors as their total budget(30000) falls under 50000  \n",
    "and with remaining 20000 they hire the 3 juniors as they all fit in the remaining budget  "
   ]
  },
  {
   "cell_type": "code",
   "execution_count": 1,
   "metadata": {},
   "outputs": [],
   "source": [
    "import pandas as pd\n",
    "import numpy as np"
   ]
  },
  {
   "cell_type": "code",
   "execution_count": 77,
   "metadata": {},
   "outputs": [
    {
     "data": {
      "text/html": [
       "<div>\n",
       "<style scoped>\n",
       "    .dataframe tbody tr th:only-of-type {\n",
       "        vertical-align: middle;\n",
       "    }\n",
       "\n",
       "    .dataframe tbody tr th {\n",
       "        vertical-align: top;\n",
       "    }\n",
       "\n",
       "    .dataframe thead th {\n",
       "        text-align: right;\n",
       "    }\n",
       "</style>\n",
       "<table border=\"1\" class=\"dataframe\">\n",
       "  <thead>\n",
       "    <tr style=\"text-align: right;\">\n",
       "      <th></th>\n",
       "      <th>id</th>\n",
       "      <th>positions</th>\n",
       "      <th>salary</th>\n",
       "    </tr>\n",
       "  </thead>\n",
       "  <tbody>\n",
       "    <tr>\n",
       "      <th>0</th>\n",
       "      <td>1</td>\n",
       "      <td>junior</td>\n",
       "      <td>5000</td>\n",
       "    </tr>\n",
       "    <tr>\n",
       "      <th>1</th>\n",
       "      <td>2</td>\n",
       "      <td>junior</td>\n",
       "      <td>7000</td>\n",
       "    </tr>\n",
       "    <tr>\n",
       "      <th>2</th>\n",
       "      <td>3</td>\n",
       "      <td>junior</td>\n",
       "      <td>7000</td>\n",
       "    </tr>\n",
       "    <tr>\n",
       "      <th>3</th>\n",
       "      <td>4</td>\n",
       "      <td>senior</td>\n",
       "      <td>10000</td>\n",
       "    </tr>\n",
       "    <tr>\n",
       "      <th>4</th>\n",
       "      <td>5</td>\n",
       "      <td>senior</td>\n",
       "      <td>30000</td>\n",
       "    </tr>\n",
       "    <tr>\n",
       "      <th>5</th>\n",
       "      <td>6</td>\n",
       "      <td>senior</td>\n",
       "      <td>20000</td>\n",
       "    </tr>\n",
       "  </tbody>\n",
       "</table>\n",
       "</div>"
      ],
      "text/plain": [
       "   id positions  salary\n",
       "0   1    junior    5000\n",
       "1   2    junior    7000\n",
       "2   3    junior    7000\n",
       "3   4    senior   10000\n",
       "4   5    senior   30000\n",
       "5   6    senior   20000"
      ]
     },
     "execution_count": 77,
     "metadata": {},
     "output_type": "execute_result"
    }
   ],
   "source": [
    "case1 = pd.read_csv('./data/case_1.csv')\n",
    "case1"
   ]
  },
  {
   "cell_type": "code",
   "execution_count": 92,
   "metadata": {},
   "outputs": [],
   "source": [
    "def find_suitable_candidates(test_case,budget):\n",
    "    senior_case = test_case.loc[test_case['positions']=='senior'].sort_values('salary').assign(cum_salary = lambda df: df['salary'].cumsum()).\\\n",
    "        assign(over_budget = lambda df: df['cum_salary']>budget)\n",
    "    senior_case = senior_case.loc[senior_case['over_budget']==False]\n",
    "    remaining_budget = budget-senior_case.loc[senior_case['over_budget']==False,'cum_salary'].max()\n",
    "    junior_case = test_case.loc[test_case['positions']=='junior'].sort_values('salary').assign(cum_salary = lambda df: df['salary'].cumsum()).\\\n",
    "        assign(over_budget = lambda df: df['cum_salary']>remaining_budget)\n",
    "    junior_case = junior_case.loc[junior_case['over_budget']==False]\n",
    "    concated_data = pd.concat([junior_case,senior_case])\n",
    "    concated_data = concated_data[['id','positions' ,'salary']]\n",
    "    res = pd.DataFrame({\n",
    "    'Seniors':[len(senior_case)],\n",
    "    'juniors':[len(junior_case)]\n",
    "    })\n",
    "    return concated_data,res"
   ]
  },
  {
   "cell_type": "code",
   "execution_count": 93,
   "metadata": {},
   "outputs": [
    {
     "name": "stdout",
     "output_type": "stream",
     "text": [
      "   id positions  salary\n",
      "0   1    junior    5000\n",
      "1   2    junior    7000\n",
      "2   3    junior    7000\n",
      "3   4    senior   10000\n",
      "5   6    senior   20000 \n",
      "    Seniors  juniors\n",
      "0        2        3\n"
     ]
    }
   ],
   "source": [
    "merged_data, res = find_suitable_candidates(case1,50000)\n",
    "print(merged_data,'\\n', res)"
   ]
  },
  {
   "cell_type": "code",
   "execution_count": 94,
   "metadata": {},
   "outputs": [
    {
     "name": "stdout",
     "output_type": "stream",
     "text": [
      "   id positions  salary\n",
      "1  30    senior   15000\n",
      "2  40    senior   30000 \n",
      "    Seniors  juniors\n",
      "0        2        0\n"
     ]
    }
   ],
   "source": [
    "case2 = pd.read_csv('./data/case_2.csv')\n",
    "merged_data, res = find_suitable_candidates(case2,50000)\n",
    "print(merged_data,'\\n', res)"
   ]
  },
  {
   "cell_type": "code",
   "execution_count": 95,
   "metadata": {},
   "outputs": [
    {
     "name": "stdout",
     "output_type": "stream",
     "text": [
      "   id positions  salary\n",
      "0   1    junior   15000\n",
      "1   2    junior   15000\n",
      "2   3    junior   20000 \n",
      "    Seniors  juniors\n",
      "0        0        3\n"
     ]
    }
   ],
   "source": [
    "case3 = pd.read_csv('./data/case_3.csv')\n",
    "merged_data, res = find_suitable_candidates(case3,50000)\n",
    "print(merged_data,'\\n', res)"
   ]
  },
  {
   "cell_type": "code",
   "execution_count": 96,
   "metadata": {},
   "outputs": [
    {
     "name": "stdout",
     "output_type": "stream",
     "text": [
      "   id positions  salary\n",
      "0  10    junior   10000\n",
      "3  40    junior   10000\n",
      "1  20    senior   15000\n",
      "4  50    senior   15000 \n",
      "    Seniors  juniors\n",
      "0        2        2\n"
     ]
    }
   ],
   "source": [
    "case4 = pd.read_csv('./data/case_4.csv')\n",
    "merged_data, res = find_suitable_candidates(case4,50000)\n",
    "print(merged_data,'\\n', res)"
   ]
  },
  {
   "cell_type": "code",
   "execution_count": null,
   "metadata": {},
   "outputs": [],
   "source": []
  }
 ],
 "metadata": {
  "kernelspec": {
   "display_name": "mws",
   "language": "python",
   "name": "python3"
  },
  "language_info": {
   "codemirror_mode": {
    "name": "ipython",
    "version": 3
   },
   "file_extension": ".py",
   "mimetype": "text/x-python",
   "name": "python",
   "nbconvert_exporter": "python",
   "pygments_lexer": "ipython3",
   "version": "3.10.9"
  }
 },
 "nbformat": 4,
 "nbformat_minor": 2
}
