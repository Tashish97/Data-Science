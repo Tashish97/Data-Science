{
 "cells": [
  {
   "cell_type": "markdown",
   "metadata": {},
   "source": [
    "### Find the number of users who purchased the same product on two or more different days\n",
    "### i.e not on the same day"
   ]
  },
  {
   "cell_type": "code",
   "execution_count": 1,
   "metadata": {},
   "outputs": [],
   "source": [
    "import pandas as pd\n",
    "import numpy as np"
   ]
  },
  {
   "cell_type": "code",
   "execution_count": 5,
   "metadata": {},
   "outputs": [],
   "source": [
    "purchases = pd.read_csv('./data/purchases.csv',parse_dates=['purchase_date'])"
   ]
  },
  {
   "cell_type": "code",
   "execution_count": 11,
   "metadata": {},
   "outputs": [
    {
     "data": {
      "text/html": [
       "<div>\n",
       "<style scoped>\n",
       "    .dataframe tbody tr th:only-of-type {\n",
       "        vertical-align: middle;\n",
       "    }\n",
       "\n",
       "    .dataframe tbody tr th {\n",
       "        vertical-align: top;\n",
       "    }\n",
       "\n",
       "    .dataframe thead th {\n",
       "        text-align: right;\n",
       "    }\n",
       "</style>\n",
       "<table border=\"1\" class=\"dataframe\">\n",
       "  <thead>\n",
       "    <tr style=\"text-align: right;\">\n",
       "      <th></th>\n",
       "      <th>user_id</th>\n",
       "      <th>product_id</th>\n",
       "      <th>quantity</th>\n",
       "      <th>purchase_date</th>\n",
       "      <th>date</th>\n",
       "    </tr>\n",
       "  </thead>\n",
       "  <tbody>\n",
       "    <tr>\n",
       "      <th>0</th>\n",
       "      <td>536</td>\n",
       "      <td>3223</td>\n",
       "      <td>6</td>\n",
       "      <td>2022-01-11 12:33:44</td>\n",
       "      <td>2022-01-11</td>\n",
       "    </tr>\n",
       "    <tr>\n",
       "      <th>1</th>\n",
       "      <td>827</td>\n",
       "      <td>3585</td>\n",
       "      <td>35</td>\n",
       "      <td>2022-02-20 14:05:26</td>\n",
       "      <td>2022-02-20</td>\n",
       "    </tr>\n",
       "    <tr>\n",
       "      <th>2</th>\n",
       "      <td>536</td>\n",
       "      <td>3223</td>\n",
       "      <td>5</td>\n",
       "      <td>2022-03-02 09:33:28</td>\n",
       "      <td>2022-03-02</td>\n",
       "    </tr>\n",
       "    <tr>\n",
       "      <th>3</th>\n",
       "      <td>536</td>\n",
       "      <td>1435</td>\n",
       "      <td>10</td>\n",
       "      <td>2022-03-02 08:40:00</td>\n",
       "      <td>2022-03-02</td>\n",
       "    </tr>\n",
       "    <tr>\n",
       "      <th>4</th>\n",
       "      <td>827</td>\n",
       "      <td>2452</td>\n",
       "      <td>45</td>\n",
       "      <td>2022-04-09 00:00:00</td>\n",
       "      <td>2022-04-09</td>\n",
       "    </tr>\n",
       "    <tr>\n",
       "      <th>5</th>\n",
       "      <td>333</td>\n",
       "      <td>1122</td>\n",
       "      <td>9</td>\n",
       "      <td>2022-02-06 01:00:00</td>\n",
       "      <td>2022-02-06</td>\n",
       "    </tr>\n",
       "    <tr>\n",
       "      <th>6</th>\n",
       "      <td>333</td>\n",
       "      <td>1122</td>\n",
       "      <td>10</td>\n",
       "      <td>2022-02-06 02:00:00</td>\n",
       "      <td>2022-02-06</td>\n",
       "    </tr>\n",
       "    <tr>\n",
       "      <th>7</th>\n",
       "      <td>333</td>\n",
       "      <td>1122</td>\n",
       "      <td>8</td>\n",
       "      <td>2022-02-06 14:56:03</td>\n",
       "      <td>2022-02-06</td>\n",
       "    </tr>\n",
       "  </tbody>\n",
       "</table>\n",
       "</div>"
      ],
      "text/plain": [
       "   user_id  product_id  quantity       purchase_date        date\n",
       "0      536        3223         6 2022-01-11 12:33:44  2022-01-11\n",
       "1      827        3585        35 2022-02-20 14:05:26  2022-02-20\n",
       "2      536        3223         5 2022-03-02 09:33:28  2022-03-02\n",
       "3      536        1435        10 2022-03-02 08:40:00  2022-03-02\n",
       "4      827        2452        45 2022-04-09 00:00:00  2022-04-09\n",
       "5      333        1122         9 2022-02-06 01:00:00  2022-02-06\n",
       "6      333        1122        10 2022-02-06 02:00:00  2022-02-06\n",
       "7      333        1122         8 2022-02-06 14:56:03  2022-02-06"
      ]
     },
     "execution_count": 11,
     "metadata": {},
     "output_type": "execute_result"
    }
   ],
   "source": [
    "purchases['date'] = purchases['purchase_date'].dt.date\n",
    "purchases"
   ]
  },
  {
   "cell_type": "code",
   "execution_count": 16,
   "metadata": {},
   "outputs": [
    {
     "data": {
      "text/plain": [
       "1"
      ]
     },
     "execution_count": 16,
     "metadata": {},
     "output_type": "execute_result"
    }
   ],
   "source": [
    "purchases.groupby(['user_id','product_id']).filter(lambda grp: grp['date'].nunique()>=2)['user_id'].nunique()"
   ]
  },
  {
   "cell_type": "code",
   "execution_count": null,
   "metadata": {},
   "outputs": [],
   "source": []
  }
 ],
 "metadata": {
  "kernelspec": {
   "display_name": "mws",
   "language": "python",
   "name": "python3"
  },
  "language_info": {
   "codemirror_mode": {
    "name": "ipython",
    "version": 3
   },
   "file_extension": ".py",
   "mimetype": "text/x-python",
   "name": "python",
   "nbconvert_exporter": "python",
   "pygments_lexer": "ipython3",
   "version": "3.10.9"
  }
 },
 "nbformat": 4,
 "nbformat_minor": 2
}
